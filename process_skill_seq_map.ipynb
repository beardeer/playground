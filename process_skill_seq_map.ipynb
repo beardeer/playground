{
 "cells": [
  {
   "cell_type": "markdown",
   "metadata": {},
   "source": [
    "Query:\n",
    "\n",
    "select mt.metadata_value_id, asa.sequence_id\n",
    "\n",
    "from metadata_taggings as mt\n",
    "\n",
    "join problems as pr \n",
    "\n",
    "on pr.id = mt.object_id\n",
    "\n",
    "join assistment_to_sequence_associations as asa\n",
    "\n",
    "on asa.assistment_id = pr.assistment_id\n",
    "\n",
    "where mt.metadata_definition_id = 1 and mt.metadata_value_id >= 5 and mt.metadata_value_id <= 317\n",
    "\n",
    "order by mt.metadata_value_id, asa.sequence_id;"
   ]
  },
  {
   "cell_type": "code",
   "execution_count": 61,
   "metadata": {
    "collapsed": true
   },
   "outputs": [],
   "source": [
    "import csv\n"
   ]
  },
  {
   "cell_type": "code",
   "execution_count": 62,
   "metadata": {
    "collapsed": true
   },
   "outputs": [],
   "source": [
    "def most_common(lst):\n",
    "    return max(set(lst), key=lst.count)"
   ]
  },
  {
   "cell_type": "code",
   "execution_count": 63,
   "metadata": {
    "collapsed": true
   },
   "outputs": [],
   "source": [
    "f = open('C:\\Users\\BearDeer\\Dropbox\\skill_seq_map.csv', 'rb')\n",
    "f2 = open('C:\\Users\\BearDeer\\Dropbox\\skill_groups.csv', 'rb')\n",
    "f3 = open('output.sql', 'wb')\n",
    "reader = csv.reader(f)\n",
    "reader_2 = csv.reader(f2)"
   ]
  },
  {
   "cell_type": "code",
   "execution_count": 64,
   "metadata": {
    "collapsed": false
   },
   "outputs": [],
   "source": [
    "raw_data = {}\n",
    "skill_seq = {}\n",
    "output_data = []"
   ]
  },
  {
   "cell_type": "code",
   "execution_count": 65,
   "metadata": {
    "collapsed": false
   },
   "outputs": [],
   "source": [
    "for row in reader:\n",
    "    skill_id, seq_id = row\n",
    "    skills = raw_data.get(seq_id, [])\n",
    "    skills.append(skill_id)\n",
    "    raw_data[seq_id] = skills\n",
    "    "
   ]
  },
  {
   "cell_type": "code",
   "execution_count": 66,
   "metadata": {
    "collapsed": false
   },
   "outputs": [
    {
     "name": "stdout",
     "output_type": "stream",
     "text": [
      "447175\n"
     ]
    }
   ],
   "source": [
    "print len(raw_data)"
   ]
  },
  {
   "cell_type": "code",
   "execution_count": 67,
   "metadata": {
    "collapsed": true
   },
   "outputs": [],
   "source": [
    "for seq_id, skills in raw_data.items():\n",
    "    main_skill = most_common(skills)\n",
    "    seqs = skill_seq.get(main_skill, [])\n",
    "    seqs.append(seq_id)\n",
    "    skill_seq[main_skill] = seqs"
   ]
  },
  {
   "cell_type": "code",
   "execution_count": 68,
   "metadata": {
    "collapsed": false
   },
   "outputs": [
    {
     "name": "stdout",
     "output_type": "stream",
     "text": [
      "275\n"
     ]
    }
   ],
   "source": [
    "print len(skill_seq)"
   ]
  },
  {
   "cell_type": "code",
   "execution_count": 69,
   "metadata": {
    "collapsed": false
   },
   "outputs": [],
   "source": [
    "for row in reader_2:\n",
    "    skill_id, group_id = row\n",
    "    seqs = skill_seq.get(skill_id, [])\n",
    "    for seq in seqs:\n",
    "        output_sql = 'INSERT INTO experiment_settings(student_id, class_id, experiment_condition, experiment_setting_default_id) VALUES (%s, %s, %s, 3);\\n' % (skill_id, seq, group_id)\n",
    "        f3.write(output_sql)\n",
    "        "
   ]
  },
  {
   "cell_type": "code",
   "execution_count": 70,
   "metadata": {
    "collapsed": false
   },
   "outputs": [
    {
     "name": "stdout",
     "output_type": "stream",
     "text": [
      "0\n"
     ]
    }
   ],
   "source": [
    "print len(output_data)"
   ]
  },
  {
   "cell_type": "code",
   "execution_count": 71,
   "metadata": {
    "collapsed": false
   },
   "outputs": [],
   "source": [
    "for row in output_data:\n",
    "    writer.writerow(row)"
   ]
  },
  {
   "cell_type": "code",
   "execution_count": 72,
   "metadata": {
    "collapsed": false
   },
   "outputs": [],
   "source": [
    "f.close()\n",
    "f2.close()\n",
    "f3.close()"
   ]
  }
 ],
 "metadata": {
  "kernelspec": {
   "display_name": "Python 2",
   "language": "python",
   "name": "python2"
  },
  "language_info": {
   "codemirror_mode": {
    "name": "ipython",
    "version": 2
   },
   "file_extension": ".py",
   "mimetype": "text/x-python",
   "name": "python",
   "nbconvert_exporter": "python",
   "pygments_lexer": "ipython2",
   "version": "2.7.10"
  }
 },
 "nbformat": 4,
 "nbformat_minor": 0
}
