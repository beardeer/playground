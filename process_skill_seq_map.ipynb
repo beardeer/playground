{
 "cells": [
  {
   "cell_type": "markdown",
   "metadata": {},
   "source": [
    "Query:\n",
    "\n",
    "select mt.metadata_value_id, asa.sequence_id\n",
    "\n",
    "from metadata_taggings as mt\n",
    "\n",
    "join problems as pr \n",
    "\n",
    "on pr.id = mt.object_id\n",
    "\n",
    "join assistment_to_sequence_associations as asa\n",
    "\n",
    "on asa.assistment_id = pr.assistment_id\n",
    "\n",
    "where mt.metadata_definition_id = 1 and mt.metadata_value_id >= 5 and mt.metadata_value_id <= 317\n",
    "\n",
    "order by mt.metadata_value_id, asa.sequence_id;"
   ]
  },
  {
   "cell_type": "code",
   "execution_count": 38,
   "metadata": {
    "collapsed": true
   },
   "outputs": [],
   "source": [
    "import csv\n"
   ]
  },
  {
   "cell_type": "code",
   "execution_count": 39,
   "metadata": {
    "collapsed": true
   },
   "outputs": [],
   "source": [
    "def most_common(lst):\n",
    "    return max(set(lst), key=lst.count)"
   ]
  },
  {
   "cell_type": "code",
   "execution_count": 40,
   "metadata": {
    "collapsed": true
   },
   "outputs": [],
   "source": [
    "f = open('C:\\Users\\BearDeer\\Dropbox\\skill_seq_map.csv', 'rt')"
   ]
  },
  {
   "cell_type": "code",
   "execution_count": 41,
   "metadata": {
    "collapsed": false
   },
   "outputs": [],
   "source": [
    "raw_data = {}\n",
    "seq_skill = {}"
   ]
  },
  {
   "cell_type": "code",
   "execution_count": 42,
   "metadata": {
    "collapsed": true
   },
   "outputs": [],
   "source": [
    "reader = csv.reader(f)"
   ]
  },
  {
   "cell_type": "code",
   "execution_count": 43,
   "metadata": {
    "collapsed": false
   },
   "outputs": [],
   "source": [
    "for row in reader:\n",
    "    skill_id, seq_id = row\n",
    "    skills = raw_data.get(seq_id, [])\n",
    "    skills.append(skill_id)\n",
    "    raw_data[seq_id] = skills\n",
    "    "
   ]
  },
  {
   "cell_type": "code",
   "execution_count": 44,
   "metadata": {
    "collapsed": false
   },
   "outputs": [
    {
     "name": "stdout",
     "output_type": "stream",
     "text": [
      "447175\n"
     ]
    }
   ],
   "source": [
    "print len(raw_data)"
   ]
  },
  {
   "cell_type": "code",
   "execution_count": 45,
   "metadata": {
    "collapsed": true
   },
   "outputs": [],
   "source": [
    "for seq_id, skills in raw_data.items():\n",
    "    main_skill = most_common(skills)\n",
    "    seq_skill[seq_id] = main_skill"
   ]
  },
  {
   "cell_type": "code",
   "execution_count": 46,
   "metadata": {
    "collapsed": false
   },
   "outputs": [
    {
     "name": "stdout",
     "output_type": "stream",
     "text": [
      "447175\n"
     ]
    }
   ],
   "source": [
    "print len(seq_skill)"
   ]
  },
  {
   "cell_type": "code",
   "execution_count": 47,
   "metadata": {
    "collapsed": false
   },
   "outputs": [
    {
     "name": "stdout",
     "output_type": "stream",
     "text": [
      "[('378466', '82'), ('378467', '95'), ('378464', '82'), ('378465', '46'), ('378462', '193'), ('378463', '99'), ('378460', '95'), ('287143', '205'), ('287148', '219'), ('287149', '142')]\n"
     ]
    }
   ],
   "source": [
    "print seq_skill.items()[:10]"
   ]
  },
  {
   "cell_type": "code",
   "execution_count": null,
   "metadata": {
    "collapsed": true
   },
   "outputs": [],
   "source": []
  }
 ],
 "metadata": {
  "kernelspec": {
   "display_name": "Python 2",
   "language": "python",
   "name": "python2"
  },
  "language_info": {
   "codemirror_mode": {
    "name": "ipython",
    "version": 2
   },
   "file_extension": ".py",
   "mimetype": "text/x-python",
   "name": "python",
   "nbconvert_exporter": "python",
   "pygments_lexer": "ipython2",
   "version": "2.7.10"
  }
 },
 "nbformat": 4,
 "nbformat_minor": 0
}
