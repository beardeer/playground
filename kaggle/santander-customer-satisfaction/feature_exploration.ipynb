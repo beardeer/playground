{
 "cells": [
  {
   "cell_type": "code",
   "execution_count": 14,
   "metadata": {
    "collapsed": true
   },
   "outputs": [],
   "source": [
    "import numpy as np\n",
    "import pandas as pd\n",
    "import matplotlib.pyplot as plt\n",
    "from sklearn import cluster\n",
    "from sklearn import ensemble\n",
    "from sklearn.linear_model import LogisticRegression\n",
    "from sklearn import cross_validation\n",
    "from sklearn.metrics import roc_auc_score as auc\n",
    "import time\n",
    "import seaborn as sns"
   ]
  },
  {
   "cell_type": "code",
   "execution_count": 2,
   "metadata": {
    "collapsed": false
   },
   "outputs": [
    {
     "name": "stdout",
     "output_type": "stream",
     "text": [
      "finished evaluating single features. took 0.19 minutes\n"
     ]
    }
   ],
   "source": [
    "%matplotlib inline\n",
    "plt.rcParams['figure.figsize'] = (10, 10)\n",
    "\n",
    "#%% load data and remove constant and duplicate columns  (taken from a kaggle script)\n",
    "\n",
    "trainDataFrame = pd.read_csv('./data/train.csv')\n",
    "\n",
    "# remove constant columns\n",
    "colsToRemove = []\n",
    "for col in trainDataFrame.columns:\n",
    "    if trainDataFrame[col].std() == 0:\n",
    "        colsToRemove.append(col)\n",
    "\n",
    "trainDataFrame.drop(colsToRemove, axis=1, inplace=True)\n",
    "\n",
    "# remove duplicate columns\n",
    "colsToRemove = []\n",
    "columns = trainDataFrame.columns\n",
    "for i in range(len(columns)-1):\n",
    "    v = trainDataFrame[columns[i]].values\n",
    "    for j in range(i+1,len(columns)):\n",
    "        if np.array_equal(v,trainDataFrame[columns[j]].values):\n",
    "            colsToRemove.append(columns[j])\n",
    "\n",
    "trainDataFrame.drop(colsToRemove, axis=1, inplace=True)\n",
    "\n",
    "trainLabels = trainDataFrame['TARGET']\n",
    "trainFeatures = trainDataFrame.drop(['ID','TARGET'], axis=1)\n",
    "\n",
    "\n",
    "#%% look at single feature performance\n",
    "\n",
    "X_train, X_valid, y_train, y_valid = cross_validation.train_test_split(trainFeatures, trainLabels, \n",
    "                                                                       test_size=0.5, random_state=1)\n",
    "# verySimpleLearner = ensemble.GradientBoostingClassifier(n_estimators=20, max_features=1, max_depth=3, \n",
    "#                                                         min_samples_leaf=100, learning_rate=0.1, \n",
    "#                                                         subsample=0.65, loss='deviance', random_state=1)\n",
    "\n",
    "verySimpleLearner = LogisticRegression()\n",
    "\n",
    "startTime = time.time()\n",
    "singleFeatureTable = pd.DataFrame(index=range(len(X_train.columns)), columns=['feature','AUC'])\n",
    "for k,feature in enumerate(X_train.columns):\n",
    "    trainInputFeature = X_train[feature].values.reshape(-1,1)\n",
    "    validInputFeature = X_valid[feature].values.reshape(-1,1)\n",
    "    verySimpleLearner.fit(trainInputFeature, y_train)\n",
    "    \n",
    "    validAUC = auc(y_valid, verySimpleLearner.predict_proba(validInputFeature)[:,1])\n",
    "    singleFeatureTable.ix[k,'feature'] = feature\n",
    "    singleFeatureTable.ix[k,'AUC'] = validAUC\n",
    "        \n",
    "print(\"finished evaluating single features. took %.2f minutes\" %((time.time()-startTime)/60))"
   ]
  },
  {
   "cell_type": "code",
   "execution_count": 3,
   "metadata": {
    "collapsed": false
   },
   "outputs": [
    {
     "data": {
      "text/html": [
       "<div>\n",
       "<table border=\"1\" class=\"dataframe\">\n",
       "  <thead>\n",
       "    <tr style=\"text-align: right;\">\n",
       "      <th></th>\n",
       "      <th>feature</th>\n",
       "      <th>AUC</th>\n",
       "    </tr>\n",
       "  </thead>\n",
       "  <tbody>\n",
       "    <tr>\n",
       "      <th>0</th>\n",
       "      <td>var15</td>\n",
       "      <td>0.699413</td>\n",
       "    </tr>\n",
       "    <tr>\n",
       "      <th>1</th>\n",
       "      <td>saldo_var30</td>\n",
       "      <td>0.6852</td>\n",
       "    </tr>\n",
       "    <tr>\n",
       "      <th>2</th>\n",
       "      <td>num_meses_var5_ult3</td>\n",
       "      <td>0.682985</td>\n",
       "    </tr>\n",
       "    <tr>\n",
       "      <th>3</th>\n",
       "      <td>num_var30</td>\n",
       "      <td>0.671324</td>\n",
       "    </tr>\n",
       "    <tr>\n",
       "      <th>4</th>\n",
       "      <td>saldo_var42</td>\n",
       "      <td>0.668217</td>\n",
       "    </tr>\n",
       "    <tr>\n",
       "      <th>5</th>\n",
       "      <td>saldo_var5</td>\n",
       "      <td>0.667349</td>\n",
       "    </tr>\n",
       "    <tr>\n",
       "      <th>6</th>\n",
       "      <td>saldo_medio_var5_hace2</td>\n",
       "      <td>0.666227</td>\n",
       "    </tr>\n",
       "    <tr>\n",
       "      <th>7</th>\n",
       "      <td>saldo_medio_var5_ult3</td>\n",
       "      <td>0.663955</td>\n",
       "    </tr>\n",
       "    <tr>\n",
       "      <th>8</th>\n",
       "      <td>ind_var30</td>\n",
       "      <td>0.663864</td>\n",
       "    </tr>\n",
       "    <tr>\n",
       "      <th>9</th>\n",
       "      <td>saldo_medio_var5_ult1</td>\n",
       "      <td>0.663135</td>\n",
       "    </tr>\n",
       "    <tr>\n",
       "      <th>10</th>\n",
       "      <td>saldo_medio_var5_hace3</td>\n",
       "      <td>0.662666</td>\n",
       "    </tr>\n",
       "    <tr>\n",
       "      <th>11</th>\n",
       "      <td>num_var42</td>\n",
       "      <td>0.660658</td>\n",
       "    </tr>\n",
       "    <tr>\n",
       "      <th>12</th>\n",
       "      <td>ind_var5</td>\n",
       "      <td>0.658915</td>\n",
       "    </tr>\n",
       "    <tr>\n",
       "      <th>13</th>\n",
       "      <td>num_var5</td>\n",
       "      <td>0.658715</td>\n",
       "    </tr>\n",
       "    <tr>\n",
       "      <th>14</th>\n",
       "      <td>num_var35</td>\n",
       "      <td>0.633073</td>\n",
       "    </tr>\n",
       "    <tr>\n",
       "      <th>15</th>\n",
       "      <td>num_var4</td>\n",
       "      <td>0.632777</td>\n",
       "    </tr>\n",
       "  </tbody>\n",
       "</table>\n",
       "</div>"
      ],
      "text/plain": [
       "                   feature       AUC\n",
       "0                    var15  0.699413\n",
       "1              saldo_var30    0.6852\n",
       "2      num_meses_var5_ult3  0.682985\n",
       "3                num_var30  0.671324\n",
       "4              saldo_var42  0.668217\n",
       "5               saldo_var5  0.667349\n",
       "6   saldo_medio_var5_hace2  0.666227\n",
       "7    saldo_medio_var5_ult3  0.663955\n",
       "8                ind_var30  0.663864\n",
       "9    saldo_medio_var5_ult1  0.663135\n",
       "10  saldo_medio_var5_hace3  0.662666\n",
       "11               num_var42  0.660658\n",
       "12                ind_var5  0.658915\n",
       "13                num_var5  0.658715\n",
       "14               num_var35  0.633073\n",
       "15                num_var4  0.632777"
      ]
     },
     "execution_count": 3,
     "metadata": {},
     "output_type": "execute_result"
    }
   ],
   "source": [
    "#%% sort according to AUC and present the table\n",
    "singleFeatureTable = singleFeatureTable.sort_values(by='AUC', axis=0, ascending=False).reset_index(drop=True)\n",
    "\n",
    "singleFeatureTable.ix[:15,:]"
   ]
  },
  {
   "cell_type": "code",
   "execution_count": 6,
   "metadata": {
    "collapsed": false
   },
   "outputs": [
    {
     "name": "stdout",
     "output_type": "stream",
     "text": [
      "(min,max) AUC = (0.3184,0.7783). took 3.1 minutes\n"
     ]
    },
    {
     "data": {
      "image/png": "[encoded data removed]",
      "text/plain": [
       "<matplotlib.figure.Figure at 0x265377b8>"
      ]
     },
     "metadata": {},
     "output_type": "display_data"
    }
   ],
   "source": [
    "#%% find interesting fivewise combinations\n",
    "\n",
    "numFeaturesInCombination = 5\n",
    "numCombinations = 500\n",
    "numBestSingleFeaturesToSelectFrom = 10\n",
    "\n",
    "X_train, X_valid, y_train, y_valid = cross_validation.train_test_split(trainFeatures, trainLabels, \n",
    "                                                                       test_size=0.5, random_state=1)\n",
    "# weakLearner = ensemble.GradientBoostingClassifier(n_estimators=30, max_features=2, max_depth=3, \n",
    "#                                                   min_samples_leaf=100,learning_rate=0.1, \n",
    "#                                                   subsample=0.65, loss='deviance', random_state=1)\n",
    "\n",
    "weakLearner = LogisticRegression()\n",
    "\n",
    "featuresToUse = singleFeatureTable.ix[0:numBestSingleFeaturesToSelectFrom-1,'feature']\n",
    "featureColumnNames = ['feature'+str(x+1) for x in range(numFeaturesInCombination)]\n",
    "featureCombinationsTable = pd.DataFrame(index=range(numCombinations), columns=featureColumnNames + ['combinedAUC'])\n",
    "\n",
    "# for numCombinations iterations \n",
    "startTime = time.time()\n",
    "for combination in range(numCombinations):\n",
    "    # generate random feature combination\n",
    "    randomSelectionOfFeatures = sorted(np.random.choice(len(featuresToUse), numFeaturesInCombination, replace=False))\n",
    "\n",
    "    # store the feature names\n",
    "    combinationFeatureNames = [featuresToUse[x] for x in randomSelectionOfFeatures]\n",
    "    for i in range(len(randomSelectionOfFeatures)):\n",
    "        featureCombinationsTable.ix[combination,featureColumnNames[i]] = combinationFeatureNames[i]\n",
    "\n",
    "    # build features matrix to get the combination AUC\n",
    "    trainInputFeatures = X_train.ix[:,combinationFeatureNames]\n",
    "    validInputFeatures = X_valid.ix[:,combinationFeatureNames]\n",
    "    # train learner\n",
    "    weakLearner.fit(trainInputFeatures, y_train)\n",
    "    # store AUC results\n",
    "    validAUC = auc(y_valid, weakLearner.predict_proba(validInputFeatures)[:,1])        \n",
    "    featureCombinationsTable.ix[combination,'combinedAUC'] = validAUC\n",
    "\n",
    "validAUC = np.array(featureCombinationsTable.ix[:,'combinedAUC'])\n",
    "print(\"(min,max) AUC = (%.4f,%.4f). took %.1f minutes\" % (validAUC.min(),validAUC.max(), (time.time()-startTime)/60))\n",
    "\n",
    "# show the histogram of the feature combinations performance \n",
    "plt.figure(); plt.hist(validAUC, 100, facecolor='blue', alpha=0.75)\n",
    "plt.xlabel('AUC'); plt.ylabel('frequency'); plt.title(\"3 feature combinations' AUC histogram\"); plt.show()"
   ]
  },
  {
   "cell_type": "code",
   "execution_count": 7,
   "metadata": {
    "collapsed": false
   },
   "outputs": [
    {
     "data": {
      "text/html": [
       "<div>\n",
       "<table border=\"1\" class=\"dataframe\">\n",
       "  <thead>\n",
       "    <tr style=\"text-align: right;\">\n",
       "      <th></th>\n",
       "      <th>feature1</th>\n",
       "      <th>feature2</th>\n",
       "      <th>feature3</th>\n",
       "      <th>feature4</th>\n",
       "      <th>feature5</th>\n",
       "      <th>combinedAUC</th>\n",
       "    </tr>\n",
       "  </thead>\n",
       "  <tbody>\n",
       "    <tr>\n",
       "      <th>0</th>\n",
       "      <td>var15</td>\n",
       "      <td>saldo_var30</td>\n",
       "      <td>num_meses_var5_ult3</td>\n",
       "      <td>saldo_medio_var5_hace2</td>\n",
       "      <td>ind_var30</td>\n",
       "      <td>0.778333</td>\n",
       "    </tr>\n",
       "    <tr>\n",
       "      <th>1</th>\n",
       "      <td>var15</td>\n",
       "      <td>saldo_var30</td>\n",
       "      <td>num_meses_var5_ult3</td>\n",
       "      <td>num_var30</td>\n",
       "      <td>saldo_medio_var5_hace2</td>\n",
       "      <td>0.777845</td>\n",
       "    </tr>\n",
       "    <tr>\n",
       "      <th>2</th>\n",
       "      <td>var15</td>\n",
       "      <td>saldo_var30</td>\n",
       "      <td>num_meses_var5_ult3</td>\n",
       "      <td>saldo_var42</td>\n",
       "      <td>saldo_medio_var5_ult3</td>\n",
       "      <td>0.777178</td>\n",
       "    </tr>\n",
       "    <tr>\n",
       "      <th>3</th>\n",
       "      <td>var15</td>\n",
       "      <td>saldo_var30</td>\n",
       "      <td>num_var30</td>\n",
       "      <td>saldo_var42</td>\n",
       "      <td>saldo_medio_var5_ult3</td>\n",
       "      <td>0.776738</td>\n",
       "    </tr>\n",
       "    <tr>\n",
       "      <th>4</th>\n",
       "      <td>var15</td>\n",
       "      <td>saldo_var30</td>\n",
       "      <td>num_var30</td>\n",
       "      <td>saldo_var42</td>\n",
       "      <td>saldo_medio_var5_ult3</td>\n",
       "      <td>0.776738</td>\n",
       "    </tr>\n",
       "    <tr>\n",
       "      <th>5</th>\n",
       "      <td>var15</td>\n",
       "      <td>saldo_var30</td>\n",
       "      <td>saldo_var5</td>\n",
       "      <td>saldo_medio_var5_hace2</td>\n",
       "      <td>ind_var30</td>\n",
       "      <td>0.776636</td>\n",
       "    </tr>\n",
       "    <tr>\n",
       "      <th>6</th>\n",
       "      <td>var15</td>\n",
       "      <td>saldo_var30</td>\n",
       "      <td>saldo_var5</td>\n",
       "      <td>saldo_medio_var5_hace2</td>\n",
       "      <td>ind_var30</td>\n",
       "      <td>0.776636</td>\n",
       "    </tr>\n",
       "    <tr>\n",
       "      <th>7</th>\n",
       "      <td>var15</td>\n",
       "      <td>saldo_var30</td>\n",
       "      <td>saldo_var5</td>\n",
       "      <td>saldo_medio_var5_hace2</td>\n",
       "      <td>ind_var30</td>\n",
       "      <td>0.776636</td>\n",
       "    </tr>\n",
       "    <tr>\n",
       "      <th>8</th>\n",
       "      <td>var15</td>\n",
       "      <td>saldo_var30</td>\n",
       "      <td>saldo_var5</td>\n",
       "      <td>saldo_medio_var5_hace2</td>\n",
       "      <td>ind_var30</td>\n",
       "      <td>0.776636</td>\n",
       "    </tr>\n",
       "    <tr>\n",
       "      <th>9</th>\n",
       "      <td>var15</td>\n",
       "      <td>saldo_var30</td>\n",
       "      <td>saldo_medio_var5_hace2</td>\n",
       "      <td>saldo_medio_var5_ult3</td>\n",
       "      <td>ind_var30</td>\n",
       "      <td>0.776238</td>\n",
       "    </tr>\n",
       "    <tr>\n",
       "      <th>10</th>\n",
       "      <td>var15</td>\n",
       "      <td>saldo_var30</td>\n",
       "      <td>saldo_medio_var5_hace2</td>\n",
       "      <td>saldo_medio_var5_ult3</td>\n",
       "      <td>ind_var30</td>\n",
       "      <td>0.776238</td>\n",
       "    </tr>\n",
       "    <tr>\n",
       "      <th>11</th>\n",
       "      <td>var15</td>\n",
       "      <td>saldo_var30</td>\n",
       "      <td>saldo_medio_var5_hace2</td>\n",
       "      <td>saldo_medio_var5_ult3</td>\n",
       "      <td>ind_var30</td>\n",
       "      <td>0.776238</td>\n",
       "    </tr>\n",
       "    <tr>\n",
       "      <th>12</th>\n",
       "      <td>var15</td>\n",
       "      <td>saldo_var30</td>\n",
       "      <td>saldo_medio_var5_hace2</td>\n",
       "      <td>saldo_medio_var5_ult3</td>\n",
       "      <td>ind_var30</td>\n",
       "      <td>0.776238</td>\n",
       "    </tr>\n",
       "    <tr>\n",
       "      <th>13</th>\n",
       "      <td>var15</td>\n",
       "      <td>saldo_var30</td>\n",
       "      <td>saldo_medio_var5_hace2</td>\n",
       "      <td>saldo_medio_var5_ult3</td>\n",
       "      <td>ind_var30</td>\n",
       "      <td>0.776238</td>\n",
       "    </tr>\n",
       "    <tr>\n",
       "      <th>14</th>\n",
       "      <td>var15</td>\n",
       "      <td>saldo_var30</td>\n",
       "      <td>saldo_medio_var5_hace2</td>\n",
       "      <td>saldo_medio_var5_ult3</td>\n",
       "      <td>ind_var30</td>\n",
       "      <td>0.776238</td>\n",
       "    </tr>\n",
       "    <tr>\n",
       "      <th>15</th>\n",
       "      <td>var15</td>\n",
       "      <td>saldo_var30</td>\n",
       "      <td>num_meses_var5_ult3</td>\n",
       "      <td>saldo_medio_var5_hace2</td>\n",
       "      <td>saldo_medio_var5_ult3</td>\n",
       "      <td>0.776189</td>\n",
       "    </tr>\n",
       "    <tr>\n",
       "      <th>16</th>\n",
       "      <td>var15</td>\n",
       "      <td>saldo_var30</td>\n",
       "      <td>num_meses_var5_ult3</td>\n",
       "      <td>saldo_medio_var5_hace2</td>\n",
       "      <td>saldo_medio_var5_ult3</td>\n",
       "      <td>0.776189</td>\n",
       "    </tr>\n",
       "    <tr>\n",
       "      <th>17</th>\n",
       "      <td>var15</td>\n",
       "      <td>saldo_var30</td>\n",
       "      <td>num_var30</td>\n",
       "      <td>saldo_medio_var5_hace2</td>\n",
       "      <td>saldo_medio_var5_ult3</td>\n",
       "      <td>0.77616</td>\n",
       "    </tr>\n",
       "    <tr>\n",
       "      <th>18</th>\n",
       "      <td>var15</td>\n",
       "      <td>saldo_var30</td>\n",
       "      <td>num_var30</td>\n",
       "      <td>ind_var30</td>\n",
       "      <td>saldo_medio_var5_ult1</td>\n",
       "      <td>0.775704</td>\n",
       "    </tr>\n",
       "    <tr>\n",
       "      <th>19</th>\n",
       "      <td>var15</td>\n",
       "      <td>saldo_var30</td>\n",
       "      <td>num_var30</td>\n",
       "      <td>saldo_medio_var5_ult3</td>\n",
       "      <td>saldo_medio_var5_ult1</td>\n",
       "      <td>0.775341</td>\n",
       "    </tr>\n",
       "    <tr>\n",
       "      <th>20</th>\n",
       "      <td>var15</td>\n",
       "      <td>saldo_var30</td>\n",
       "      <td>num_var30</td>\n",
       "      <td>saldo_medio_var5_ult3</td>\n",
       "      <td>saldo_medio_var5_ult1</td>\n",
       "      <td>0.775341</td>\n",
       "    </tr>\n",
       "  </tbody>\n",
       "</table>\n",
       "</div>"
      ],
      "text/plain": [
       "   feature1     feature2                feature3                feature4  \\\n",
       "0     var15  saldo_var30     num_meses_var5_ult3  saldo_medio_var5_hace2   \n",
       "1     var15  saldo_var30     num_meses_var5_ult3               num_var30   \n",
       "2     var15  saldo_var30     num_meses_var5_ult3             saldo_var42   \n",
       "3     var15  saldo_var30               num_var30             saldo_var42   \n",
       "4     var15  saldo_var30               num_var30             saldo_var42   \n",
       "5     var15  saldo_var30              saldo_var5  saldo_medio_var5_hace2   \n",
       "6     var15  saldo_var30              saldo_var5  saldo_medio_var5_hace2   \n",
       "7     var15  saldo_var30              saldo_var5  saldo_medio_var5_hace2   \n",
       "8     var15  saldo_var30              saldo_var5  saldo_medio_var5_hace2   \n",
       "9     var15  saldo_var30  saldo_medio_var5_hace2   saldo_medio_var5_ult3   \n",
       "10    var15  saldo_var30  saldo_medio_var5_hace2   saldo_medio_var5_ult3   \n",
       "11    var15  saldo_var30  saldo_medio_var5_hace2   saldo_medio_var5_ult3   \n",
       "12    var15  saldo_var30  saldo_medio_var5_hace2   saldo_medio_var5_ult3   \n",
       "13    var15  saldo_var30  saldo_medio_var5_hace2   saldo_medio_var5_ult3   \n",
       "14    var15  saldo_var30  saldo_medio_var5_hace2   saldo_medio_var5_ult3   \n",
       "15    var15  saldo_var30     num_meses_var5_ult3  saldo_medio_var5_hace2   \n",
       "16    var15  saldo_var30     num_meses_var5_ult3  saldo_medio_var5_hace2   \n",
       "17    var15  saldo_var30               num_var30  saldo_medio_var5_hace2   \n",
       "18    var15  saldo_var30               num_var30               ind_var30   \n",
       "19    var15  saldo_var30               num_var30   saldo_medio_var5_ult3   \n",
       "20    var15  saldo_var30               num_var30   saldo_medio_var5_ult3   \n",
       "\n",
       "                  feature5 combinedAUC  \n",
       "0                ind_var30    0.778333  \n",
       "1   saldo_medio_var5_hace2    0.777845  \n",
       "2    saldo_medio_var5_ult3    0.777178  \n",
       "3    saldo_medio_var5_ult3    0.776738  \n",
       "4    saldo_medio_var5_ult3    0.776738  \n",
       "5                ind_var30    0.776636  \n",
       "6                ind_var30    0.776636  \n",
       "7                ind_var30    0.776636  \n",
       "8                ind_var30    0.776636  \n",
       "9                ind_var30    0.776238  \n",
       "10               ind_var30    0.776238  \n",
       "11               ind_var30    0.776238  \n",
       "12               ind_var30    0.776238  \n",
       "13               ind_var30    0.776238  \n",
       "14               ind_var30    0.776238  \n",
       "15   saldo_medio_var5_ult3    0.776189  \n",
       "16   saldo_medio_var5_ult3    0.776189  \n",
       "17   saldo_medio_var5_ult3     0.77616  \n",
       "18   saldo_medio_var5_ult1    0.775704  \n",
       "19   saldo_medio_var5_ult1    0.775341  \n",
       "20   saldo_medio_var5_ult1    0.775341  "
      ]
     },
     "execution_count": 7,
     "metadata": {},
     "output_type": "execute_result"
    }
   ],
   "source": [
    "#%% sort according to combination AUC and look at the table\n",
    "\n",
    "featureCombinationsTable = featureCombinationsTable.sort_values(by='combinedAUC', axis=0, ascending=False).reset_index(drop=True)\n",
    "featureCombinationsTable.ix[:20,:]"
   ]
  },
  {
   "cell_type": "code",
   "execution_count": 8,
   "metadata": {
    "collapsed": false
   },
   "outputs": [
    {
     "data": {
      "text/plain": [
       "count    76020.000000\n",
       "mean        33.212865\n",
       "std         12.956486\n",
       "min          5.000000\n",
       "25%         23.000000\n",
       "50%         28.000000\n",
       "75%         40.000000\n",
       "max        105.000000\n",
       "Name: var15, dtype: float64"
      ]
     },
     "execution_count": 8,
     "metadata": {},
     "output_type": "execute_result"
    }
   ],
   "source": [
    "trainDataFrame['var15'].describe()"
   ]
  },
  {
   "cell_type": "code",
   "execution_count": 9,
   "metadata": {
    "collapsed": false
   },
   "outputs": [
    {
     "data": {
      "text/plain": [
       "count      76020.000000\n",
       "mean       13679.673658\n",
       "std        63014.078142\n",
       "min        -4942.260000\n",
       "25%            0.000000\n",
       "50%            3.000000\n",
       "75%          235.995000\n",
       "max      3458077.320000\n",
       "Name: saldo_var30, dtype: float64"
      ]
     },
     "execution_count": 9,
     "metadata": {},
     "output_type": "execute_result"
    }
   ],
   "source": [
    "trainDataFrame['saldo_var30'].describe()"
   ]
  },
  {
   "cell_type": "code",
   "execution_count": 10,
   "metadata": {
    "collapsed": false
   },
   "outputs": [
    {
     "data": {
      "text/plain": [
       "count    76020.000000\n",
       "mean         1.979979\n",
       "std          1.298924\n",
       "min          0.000000\n",
       "25%          0.000000\n",
       "50%          3.000000\n",
       "75%          3.000000\n",
       "max          3.000000\n",
       "Name: num_meses_var5_ult3, dtype: float64"
      ]
     },
     "execution_count": 10,
     "metadata": {},
     "output_type": "execute_result"
    }
   ],
   "source": [
    "trainDataFrame['num_meses_var5_ult3'].describe()"
   ]
  },
  {
   "cell_type": "code",
   "execution_count": 11,
   "metadata": {
    "collapsed": false
   },
   "outputs": [
    {
     "data": {
      "text/plain": [
       "count    76020.000000\n",
       "mean         2.382873\n",
       "std          1.642787\n",
       "min          0.000000\n",
       "25%          0.000000\n",
       "50%          3.000000\n",
       "75%          3.000000\n",
       "max         33.000000\n",
       "Name: num_var30, dtype: float64"
      ]
     },
     "execution_count": 11,
     "metadata": {},
     "output_type": "execute_result"
    }
   ],
   "source": [
    "trainDataFrame['num_var30'].describe()"
   ]
  },
  {
   "cell_type": "code",
   "execution_count": 12,
   "metadata": {
    "collapsed": false
   },
   "outputs": [
    {
     "data": {
      "text/plain": [
       "count      76020.000000\n",
       "mean        7191.725395\n",
       "std        49145.313879\n",
       "min        -4942.260000\n",
       "25%            0.000000\n",
       "50%            3.000000\n",
       "75%          120.000000\n",
       "max      3008077.320000\n",
       "Name: saldo_var42, dtype: float64"
      ]
     },
     "execution_count": 12,
     "metadata": {},
     "output_type": "execute_result"
    }
   ],
   "source": [
    "trainDataFrame['saldo_var42'].describe()"
   ]
  },
  {
   "cell_type": "code",
   "execution_count": 26,
   "metadata": {
    "collapsed": false
   },
   "outputs": [
    {
     "data": {
      "image/png": "[encoded data removed]",
      "text/plain": [
       "<matplotlib.figure.Figure at 0x29992358>"
      ]
     },
     "metadata": {},
     "output_type": "display_data"
    }
   ],
   "source": [
    "sns.FacetGrid(trainDataFrame, hue=\"TARGET\", size=6) \\\n",
    "   .map(sns.kdeplot, \"num_meses_var5_ult3\") \\\n",
    "   .add_legend()\n",
    "plt.title('Unsatisfied customers are slightly older')\n",
    "plt.show()"
   ]
  },
  {
   "cell_type": "code",
   "execution_count": null,
   "metadata": {
    "collapsed": true
   },
   "outputs": [],
   "source": []
  }
 ],
 "metadata": {
  "kernelspec": {
   "display_name": "Python 2",
   "language": "python",
   "name": "python2"
  },
  "language_info": {
   "codemirror_mode": {
    "name": "ipython",
    "version": 2
   },
   "file_extension": ".py",
   "mimetype": "text/x-python",
   "name": "python",
   "nbconvert_exporter": "python",
   "pygments_lexer": "ipython2",
   "version": "2.7.11"
  }
 },
 "nbformat": 4,
 "nbformat_minor": 0
}
